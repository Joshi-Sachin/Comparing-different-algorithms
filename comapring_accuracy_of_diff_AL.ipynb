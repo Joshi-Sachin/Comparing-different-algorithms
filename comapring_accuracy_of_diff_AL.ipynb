{
  "nbformat": 4,
  "nbformat_minor": 0,
  "metadata": {
    "colab": {
      "provenance": []
    },
    "kernelspec": {
      "name": "python3",
      "display_name": "Python 3"
    },
    "language_info": {
      "name": "python"
    }
  },
  "cells": [
    {
      "cell_type": "code",
      "execution_count": 26,
      "metadata": {
        "id": "qa6sq6b-4Kfq"
      },
      "outputs": [],
      "source": [
        "import pandas as pd\n",
        "import numpy as np\n",
        "import matplotlib.pyplot as plt\n",
        "%matplotlib inline\n",
        "from sklearn.preprocessing import LabelEncoder\n",
        "from sklearn.model_selection import train_test_split\n",
        "from sklearn import tree,metrics, ensemble, neural_network, naive_bayes, neighbors, svm"
      ]
    },
    {
      "cell_type": "code",
      "source": [
        "filepath = \"/content/sample_data/cars.csv\"\n",
        "df = pd.read_csv('/content/sample_data/cars.csv',na_values=['',' '])\n",
        "df.head()"
      ],
      "metadata": {
        "colab": {
          "base_uri": "https://localhost:8080/",
          "height": 206
        },
        "id": "Wc39iLAw4Y-p",
        "outputId": "710b1a81-0b82-4362-dce4-ad2ec6c6f16b"
      },
      "execution_count": 4,
      "outputs": [
        {
          "output_type": "execute_result",
          "data": {
            "text/plain": [
              "    mpg   cylinders   cubicinches   hp   weightlbs   time-to-60   year  \\\n",
              "0  14.0           8         350.0  165      4209.0           12   1972   \n",
              "1  31.9           4          89.0   71      1925.0           14   1980   \n",
              "2  17.0           8         302.0  140      3449.0           11   1971   \n",
              "3  15.0           8         400.0  150      3761.0           10   1971   \n",
              "4  30.5           4          98.0   63      2051.0           17   1978   \n",
              "\n",
              "      brand  \n",
              "0       US.  \n",
              "1   Europe.  \n",
              "2       US.  \n",
              "3       US.  \n",
              "4       US.  "
            ],
            "text/html": [
              "\n",
              "  <div id=\"df-b9e5e719-9866-44f2-8461-fa5283d18770\">\n",
              "    <div class=\"colab-df-container\">\n",
              "      <div>\n",
              "<style scoped>\n",
              "    .dataframe tbody tr th:only-of-type {\n",
              "        vertical-align: middle;\n",
              "    }\n",
              "\n",
              "    .dataframe tbody tr th {\n",
              "        vertical-align: top;\n",
              "    }\n",
              "\n",
              "    .dataframe thead th {\n",
              "        text-align: right;\n",
              "    }\n",
              "</style>\n",
              "<table border=\"1\" class=\"dataframe\">\n",
              "  <thead>\n",
              "    <tr style=\"text-align: right;\">\n",
              "      <th></th>\n",
              "      <th>mpg</th>\n",
              "      <th>cylinders</th>\n",
              "      <th>cubicinches</th>\n",
              "      <th>hp</th>\n",
              "      <th>weightlbs</th>\n",
              "      <th>time-to-60</th>\n",
              "      <th>year</th>\n",
              "      <th>brand</th>\n",
              "    </tr>\n",
              "  </thead>\n",
              "  <tbody>\n",
              "    <tr>\n",
              "      <th>0</th>\n",
              "      <td>14.0</td>\n",
              "      <td>8</td>\n",
              "      <td>350.0</td>\n",
              "      <td>165</td>\n",
              "      <td>4209.0</td>\n",
              "      <td>12</td>\n",
              "      <td>1972</td>\n",
              "      <td>US.</td>\n",
              "    </tr>\n",
              "    <tr>\n",
              "      <th>1</th>\n",
              "      <td>31.9</td>\n",
              "      <td>4</td>\n",
              "      <td>89.0</td>\n",
              "      <td>71</td>\n",
              "      <td>1925.0</td>\n",
              "      <td>14</td>\n",
              "      <td>1980</td>\n",
              "      <td>Europe.</td>\n",
              "    </tr>\n",
              "    <tr>\n",
              "      <th>2</th>\n",
              "      <td>17.0</td>\n",
              "      <td>8</td>\n",
              "      <td>302.0</td>\n",
              "      <td>140</td>\n",
              "      <td>3449.0</td>\n",
              "      <td>11</td>\n",
              "      <td>1971</td>\n",
              "      <td>US.</td>\n",
              "    </tr>\n",
              "    <tr>\n",
              "      <th>3</th>\n",
              "      <td>15.0</td>\n",
              "      <td>8</td>\n",
              "      <td>400.0</td>\n",
              "      <td>150</td>\n",
              "      <td>3761.0</td>\n",
              "      <td>10</td>\n",
              "      <td>1971</td>\n",
              "      <td>US.</td>\n",
              "    </tr>\n",
              "    <tr>\n",
              "      <th>4</th>\n",
              "      <td>30.5</td>\n",
              "      <td>4</td>\n",
              "      <td>98.0</td>\n",
              "      <td>63</td>\n",
              "      <td>2051.0</td>\n",
              "      <td>17</td>\n",
              "      <td>1978</td>\n",
              "      <td>US.</td>\n",
              "    </tr>\n",
              "  </tbody>\n",
              "</table>\n",
              "</div>\n",
              "      <button class=\"colab-df-convert\" onclick=\"convertToInteractive('df-b9e5e719-9866-44f2-8461-fa5283d18770')\"\n",
              "              title=\"Convert this dataframe to an interactive table.\"\n",
              "              style=\"display:none;\">\n",
              "        \n",
              "  <svg xmlns=\"http://www.w3.org/2000/svg\" height=\"24px\"viewBox=\"0 0 24 24\"\n",
              "       width=\"24px\">\n",
              "    <path d=\"M0 0h24v24H0V0z\" fill=\"none\"/>\n",
              "    <path d=\"M18.56 5.44l.94 2.06.94-2.06 2.06-.94-2.06-.94-.94-2.06-.94 2.06-2.06.94zm-11 1L8.5 8.5l.94-2.06 2.06-.94-2.06-.94L8.5 2.5l-.94 2.06-2.06.94zm10 10l.94 2.06.94-2.06 2.06-.94-2.06-.94-.94-2.06-.94 2.06-2.06.94z\"/><path d=\"M17.41 7.96l-1.37-1.37c-.4-.4-.92-.59-1.43-.59-.52 0-1.04.2-1.43.59L10.3 9.45l-7.72 7.72c-.78.78-.78 2.05 0 2.83L4 21.41c.39.39.9.59 1.41.59.51 0 1.02-.2 1.41-.59l7.78-7.78 2.81-2.81c.8-.78.8-2.07 0-2.86zM5.41 20L4 18.59l7.72-7.72 1.47 1.35L5.41 20z\"/>\n",
              "  </svg>\n",
              "      </button>\n",
              "      \n",
              "  <style>\n",
              "    .colab-df-container {\n",
              "      display:flex;\n",
              "      flex-wrap:wrap;\n",
              "      gap: 12px;\n",
              "    }\n",
              "\n",
              "    .colab-df-convert {\n",
              "      background-color: #E8F0FE;\n",
              "      border: none;\n",
              "      border-radius: 50%;\n",
              "      cursor: pointer;\n",
              "      display: none;\n",
              "      fill: #1967D2;\n",
              "      height: 32px;\n",
              "      padding: 0 0 0 0;\n",
              "      width: 32px;\n",
              "    }\n",
              "\n",
              "    .colab-df-convert:hover {\n",
              "      background-color: #E2EBFA;\n",
              "      box-shadow: 0px 1px 2px rgba(60, 64, 67, 0.3), 0px 1px 3px 1px rgba(60, 64, 67, 0.15);\n",
              "      fill: #174EA6;\n",
              "    }\n",
              "\n",
              "    [theme=dark] .colab-df-convert {\n",
              "      background-color: #3B4455;\n",
              "      fill: #D2E3FC;\n",
              "    }\n",
              "\n",
              "    [theme=dark] .colab-df-convert:hover {\n",
              "      background-color: #434B5C;\n",
              "      box-shadow: 0px 1px 3px 1px rgba(0, 0, 0, 0.15);\n",
              "      filter: drop-shadow(0px 1px 2px rgba(0, 0, 0, 0.3));\n",
              "      fill: #FFFFFF;\n",
              "    }\n",
              "  </style>\n",
              "\n",
              "      <script>\n",
              "        const buttonEl =\n",
              "          document.querySelector('#df-b9e5e719-9866-44f2-8461-fa5283d18770 button.colab-df-convert');\n",
              "        buttonEl.style.display =\n",
              "          google.colab.kernel.accessAllowed ? 'block' : 'none';\n",
              "\n",
              "        async function convertToInteractive(key) {\n",
              "          const element = document.querySelector('#df-b9e5e719-9866-44f2-8461-fa5283d18770');\n",
              "          const dataTable =\n",
              "            await google.colab.kernel.invokeFunction('convertToInteractive',\n",
              "                                                     [key], {});\n",
              "          if (!dataTable) return;\n",
              "\n",
              "          const docLinkHtml = 'Like what you see? Visit the ' +\n",
              "            '<a target=\"_blank\" href=https://colab.research.google.com/notebooks/data_table.ipynb>data table notebook</a>'\n",
              "            + ' to learn more about interactive tables.';\n",
              "          element.innerHTML = '';\n",
              "          dataTable['output_type'] = 'display_data';\n",
              "          await google.colab.output.renderOutput(dataTable, element);\n",
              "          const docLink = document.createElement('div');\n",
              "          docLink.innerHTML = docLinkHtml;\n",
              "          element.appendChild(docLink);\n",
              "        }\n",
              "      </script>\n",
              "    </div>\n",
              "  </div>\n",
              "  "
            ]
          },
          "metadata": {},
          "execution_count": 4
        }
      ]
    },
    {
      "cell_type": "code",
      "source": [
        "file=pd.read_csv('/content/sample_data/cars.csv',sep=r'\\s*,\\s*',header=0, encoding='ascii', engine='python')\n",
        "print(file.columns.tolist())"
      ],
      "metadata": {
        "colab": {
          "base_uri": "https://localhost:8080/"
        },
        "id": "cAplWp755L3u",
        "outputId": "8ca5f3e1-390f-4319-c0c7-ecd09a9c79c2"
      },
      "execution_count": 5,
      "outputs": [
        {
          "output_type": "stream",
          "name": "stdout",
          "text": [
            "['mpg', 'cylinders', 'cubicinches', 'hp', 'weightlbs', 'time-to-60', 'year', 'brand']\n"
          ]
        }
      ]
    },
    {
      "cell_type": "code",
      "source": [
        "target_col=LabelEncoder()\n",
        "file['brand_numeric']=target_col.fit_transform(file['brand'])\n",
        "file=file.drop(['year','brand'],axis=\"columns\")"
      ],
      "metadata": {
        "id": "wHcI8G6-d8rp"
      },
      "execution_count": 6,
      "outputs": []
    },
    {
      "cell_type": "code",
      "source": [
        "inputs=file.drop('brand_numeric', axis=\"columns\")\n",
        "inputs=np.nan_to_num(inputs)"
      ],
      "metadata": {
        "id": "ENuOHfkO9_BH"
      },
      "execution_count": 7,
      "outputs": []
    },
    {
      "cell_type": "code",
      "source": [
        "targets=file['brand_numeric']"
      ],
      "metadata": {
        "id": "MFIWLJR0A_XW"
      },
      "execution_count": 8,
      "outputs": []
    },
    {
      "cell_type": "code",
      "source": [
        "XTrain, XTest, YTrain, YTest=train_test_split(inputs, targets, test_size=0.2, random_state=1)"
      ],
      "metadata": {
        "id": "m4I0q4dHJxhr"
      },
      "execution_count": 21,
      "outputs": []
    },
    {
      "cell_type": "markdown",
      "source": [
        "Decision Tree model"
      ],
      "metadata": {
        "id": "LqhZtFlWTQXx"
      }
    },
    {
      "cell_type": "code",
      "source": [
        "decision_tree=tree.DecisionTreeClassifier()\n",
        "decision_tree.fit(XTrain,YTrain)\n",
        "y_decision_tree=decision_tree.predict(XTest)\n",
        "accuracy_dt=[metrics.accuracy_score(YTest, y_decision_tree)]"
      ],
      "metadata": {
        "id": "pTJxN3Z_G_jY"
      },
      "execution_count": 22,
      "outputs": []
    },
    {
      "cell_type": "markdown",
      "source": [
        "Random forest"
      ],
      "metadata": {
        "id": "FT8sPO8pT0WE"
      }
    },
    {
      "cell_type": "code",
      "source": [
        "randomforest=ensemble.RandomForestClassifier()\n",
        "randomforest.fit(XTrain, YTrain)\n",
        "y_randomforest=randomforest.predict(XTest)\n",
        "accuracy_rf=[metrics.accuracy_score(YTest, y_randomforest)]"
      ],
      "metadata": {
        "id": "VALdfvwRT20u"
      },
      "execution_count": 23,
      "outputs": []
    },
    {
      "cell_type": "markdown",
      "source": [
        "Neural network"
      ],
      "metadata": {
        "id": "5NueO5tSVuU9"
      }
    },
    {
      "cell_type": "code",
      "source": [
        "neuralNetwork=neural_network.MLPClassifier()\n",
        "neuralNetwork.fit(XTrain, YTrain)\n",
        "y_neuralNetwork=neuralNetwork.predict(XTest)\n",
        "accuracy_nn=[metrics.accuracy_score(YTest, y_neuralNetwork)]"
      ],
      "metadata": {
        "id": "zXV9pwzuVxuD"
      },
      "execution_count": 24,
      "outputs": []
    },
    {
      "cell_type": "markdown",
      "source": [
        "Naive Bayes"
      ],
      "metadata": {
        "id": "jsxJXOGGXZt3"
      }
    },
    {
      "cell_type": "code",
      "source": [
        "naive_bayes=naive_bayes.GaussianNB()\n",
        "naive_bayes.fit(XTrain, YTrain)\n",
        "y_naive_bayes=naive_bayes.predict(XTest)\n",
        "accuracy_nb=[metrics.accuracy_score(YTest, y_naive_bayes)]"
      ],
      "metadata": {
        "id": "AcxU2oYFXhIy"
      },
      "execution_count": 27,
      "outputs": []
    },
    {
      "cell_type": "markdown",
      "source": [
        "K - NN"
      ],
      "metadata": {
        "id": "Gp58KNMEYgtG"
      }
    },
    {
      "cell_type": "code",
      "source": [
        "KNN=neighbors.KNeighborsClassifier(n_neighbors=3)\n",
        "KNN.fit(XTrain, YTrain)\n",
        "y_knn=KNN.predict(XTest)\n",
        "accuracy_knn=[metrics.accuracy_score(YTest, y_knn)]"
      ],
      "metadata": {
        "id": "-XhvAI8MYkSk"
      },
      "execution_count": 41,
      "outputs": []
    },
    {
      "cell_type": "markdown",
      "source": [
        "SVM algorithm"
      ],
      "metadata": {
        "id": "K9NLcW8kweij"
      }
    },
    {
      "cell_type": "code",
      "source": [
        "SVM=svm.SVC()\n",
        "SVM.fit(XTrain, YTrain)\n",
        "y_svm=SVM.predict(XTest)\n",
        "accuracy_svm=[metrics.accuracy_score(YTest, y_svm)]"
      ],
      "metadata": {
        "id": "zYrUafY0whW1"
      },
      "execution_count": 29,
      "outputs": []
    },
    {
      "cell_type": "code",
      "source": [
        "print(\"Accuracy of decision_tree algorithm is: \", accuracy_dt)\n",
        "print(\"Accuracy of random_forest algorithm is: \", accuracy_rf)\n",
        "print(\"Accuracy of neural_network algorithm is: \", accuracy_nn)\n",
        "print(\"Accuracy of naive_bayes algorithm is: \", accuracy_nb)\n",
        "print(\"Accuracy of knn algorithm is: \", accuracy_knn)\n",
        "print(\"Accuracy of Svm algorithm is: \", accuracy_svm)"
      ],
      "metadata": {
        "colab": {
          "base_uri": "https://localhost:8080/"
        },
        "id": "Fuqzx9K1H0Hp",
        "outputId": "a6b13cdd-d30f-444f-9e1e-17fdc7e90d7d"
      },
      "execution_count": 42,
      "outputs": [
        {
          "output_type": "stream",
          "name": "stdout",
          "text": [
            "Accuracy of decision_tree algorithm is:  [0.7735849056603774]\n",
            "Accuracy of random_forest algorithm is:  [0.8490566037735849]\n",
            "Accuracy of neural_network algorithm is:  [0.5660377358490566]\n",
            "Accuracy of naive_bayes algorithm is:  [0.6981132075471698]\n",
            "Accuracy of knn algorithm is:  [0.7169811320754716]\n",
            "Accuracy of Svm algorithm is:  [0.6226415094339622]\n"
          ]
        }
      ]
    }
  ]
}